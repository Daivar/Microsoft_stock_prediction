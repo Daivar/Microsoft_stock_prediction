{
  "nbformat": 4,
  "nbformat_minor": 0,
  "metadata": {
    "colab": {
      "name": "Microsoft_stoct_prediction.ipynb",
      "provenance": [],
      "authorship_tag": "ABX9TyOIUFpynfiBcqE+DLmisJyd",
      "include_colab_link": true
    },
    "kernelspec": {
      "name": "python3",
      "display_name": "Python 3"
    },
    "language_info": {
      "name": "python"
    }
  },
  "cells": [
    {
      "cell_type": "markdown",
      "metadata": {
        "id": "view-in-github",
        "colab_type": "text"
      },
      "source": [
        "<a href=\"https://colab.research.google.com/github/Daivar/Microsoft_stoct_prediction/blob/main/Microsoft_stoct_prediction.ipynb\" target=\"_parent\"><img src=\"https://colab.research.google.com/assets/colab-badge.svg\" alt=\"Open In Colab\"/></a>"
      ]
    },
    {
      "cell_type": "code",
      "execution_count": 1,
      "metadata": {
        "id": "Vmlz2LOqXJh1"
      },
      "outputs": [],
      "source": [
        "import pandas as pd\n",
        "import numpy as np\n",
        "\n",
        "import matplotlib.pyplot as plt\n",
        "import seaborn as sns\n",
        "sns.set(rc={'figure.figsize':(16,8)})\n",
        "sns.set(font_scale=1.3)\n",
        "plt.style.use('fivethirtyeight')\n",
        "\n",
        "from sklearn.preprocessing import MinMaxScaler\n",
        "from tensorflow.keras.models import Sequential\n",
        "from tensorflow.keras.layers import Dense, Dropout, LSTM, RepeatVector, TimeDistributed\n",
        "from tensorflow.keras.callbacks import EarlyStopping, ReduceLROnPlateau\n",
        "\n",
        "import warnings\n",
        "warnings.filterwarnings('ignore')"
      ]
    },
    {
      "cell_type": "code",
      "source": [
        "df = pd.read_csv('Microsoft_Stock.csv', infer_datetime_format=True, parse_dates=['Date'], index_col=['Date'])\n",
        "df.head"
      ],
      "metadata": {
        "colab": {
          "base_uri": "https://localhost:8080/"
        },
        "id": "gbbYN-xhXxMJ",
        "outputId": "85d7ecf0-92c8-4f49-ff3b-ae8299a2c492"
      },
      "execution_count": 7,
      "outputs": [
        {
          "output_type": "execute_result",
          "data": {
            "text/plain": [
              "<bound method NDFrame.head of                        Open    High     Low   Close    Volume\n",
              "Date                                                         \n",
              "2015-04-01 16:00:00   40.60   40.76   40.31   40.72  36865322\n",
              "2015-04-02 16:00:00   40.66   40.74   40.12   40.29  37487476\n",
              "2015-04-06 16:00:00   40.34   41.78   40.18   41.55  39223692\n",
              "2015-04-07 16:00:00   41.61   41.91   41.31   41.53  28809375\n",
              "2015-04-08 16:00:00   41.48   41.69   41.04   41.42  24753438\n",
              "...                     ...     ...     ...     ...       ...\n",
              "2021-03-25 16:00:00  235.30  236.94  231.57  232.34  34061853\n",
              "2021-03-26 16:00:00  231.55  236.71  231.55  236.48  25479853\n",
              "2021-03-29 16:00:00  236.59  236.80  231.88  235.24  25227455\n",
              "2021-03-30 16:00:00  233.53  233.85  231.10  231.85  24792012\n",
              "2021-03-31 16:00:00  232.91  239.10  232.39  235.77  43623471\n",
              "\n",
              "[1511 rows x 5 columns]>"
            ]
          },
          "metadata": {},
          "execution_count": 7
        }
      ]
    },
    {
      "cell_type": "code",
      "source": [
        "df.info()"
      ],
      "metadata": {
        "colab": {
          "base_uri": "https://localhost:8080/"
        },
        "id": "eA47HuBfYHew",
        "outputId": "20a21f98-28e5-4ced-b678-1a5acf91c71c"
      },
      "execution_count": 4,
      "outputs": [
        {
          "output_type": "stream",
          "name": "stdout",
          "text": [
            "<class 'pandas.core.frame.DataFrame'>\n",
            "DatetimeIndex: 1511 entries, 2015-04-01 16:00:00 to 2021-03-31 16:00:00\n",
            "Data columns (total 5 columns):\n",
            " #   Column  Non-Null Count  Dtype  \n",
            "---  ------  --------------  -----  \n",
            " 0   Open    1511 non-null   float64\n",
            " 1   High    1511 non-null   float64\n",
            " 2   Low     1511 non-null   float64\n",
            " 3   Close   1511 non-null   float64\n",
            " 4   Volume  1511 non-null   int64  \n",
            "dtypes: float64(4), int64(1)\n",
            "memory usage: 70.8 KB\n"
          ]
        }
      ]
    },
    {
      "cell_type": "code",
      "source": [
        "df.describe()"
      ],
      "metadata": {
        "colab": {
          "base_uri": "https://localhost:8080/",
          "height": 300
        },
        "id": "cMkO1ATbYLsE",
        "outputId": "d6add48e-0389-47a7-e9a5-4d57fb30f9f7"
      },
      "execution_count": 5,
      "outputs": [
        {
          "output_type": "execute_result",
          "data": {
            "text/html": [
              "\n",
              "  <div id=\"df-dc8a1f03-61da-4bd5-acb4-53f7abf4fe70\">\n",
              "    <div class=\"colab-df-container\">\n",
              "      <div>\n",
              "<style scoped>\n",
              "    .dataframe tbody tr th:only-of-type {\n",
              "        vertical-align: middle;\n",
              "    }\n",
              "\n",
              "    .dataframe tbody tr th {\n",
              "        vertical-align: top;\n",
              "    }\n",
              "\n",
              "    .dataframe thead th {\n",
              "        text-align: right;\n",
              "    }\n",
              "</style>\n",
              "<table border=\"1\" class=\"dataframe\">\n",
              "  <thead>\n",
              "    <tr style=\"text-align: right;\">\n",
              "      <th></th>\n",
              "      <th>Open</th>\n",
              "      <th>High</th>\n",
              "      <th>Low</th>\n",
              "      <th>Close</th>\n",
              "      <th>Volume</th>\n",
              "    </tr>\n",
              "  </thead>\n",
              "  <tbody>\n",
              "    <tr>\n",
              "      <th>count</th>\n",
              "      <td>1511.000000</td>\n",
              "      <td>1511.000000</td>\n",
              "      <td>1511.000000</td>\n",
              "      <td>1511.000000</td>\n",
              "      <td>1.511000e+03</td>\n",
              "    </tr>\n",
              "    <tr>\n",
              "      <th>mean</th>\n",
              "      <td>107.385976</td>\n",
              "      <td>108.437472</td>\n",
              "      <td>106.294533</td>\n",
              "      <td>107.422091</td>\n",
              "      <td>3.019863e+07</td>\n",
              "    </tr>\n",
              "    <tr>\n",
              "      <th>std</th>\n",
              "      <td>56.691333</td>\n",
              "      <td>57.382276</td>\n",
              "      <td>55.977155</td>\n",
              "      <td>56.702299</td>\n",
              "      <td>1.425266e+07</td>\n",
              "    </tr>\n",
              "    <tr>\n",
              "      <th>min</th>\n",
              "      <td>40.340000</td>\n",
              "      <td>40.740000</td>\n",
              "      <td>39.720000</td>\n",
              "      <td>40.290000</td>\n",
              "      <td>1.016120e+05</td>\n",
              "    </tr>\n",
              "    <tr>\n",
              "      <th>25%</th>\n",
              "      <td>57.860000</td>\n",
              "      <td>58.060000</td>\n",
              "      <td>57.420000</td>\n",
              "      <td>57.855000</td>\n",
              "      <td>2.136213e+07</td>\n",
              "    </tr>\n",
              "    <tr>\n",
              "      <th>50%</th>\n",
              "      <td>93.990000</td>\n",
              "      <td>95.100000</td>\n",
              "      <td>92.920000</td>\n",
              "      <td>93.860000</td>\n",
              "      <td>2.662962e+07</td>\n",
              "    </tr>\n",
              "    <tr>\n",
              "      <th>75%</th>\n",
              "      <td>139.440000</td>\n",
              "      <td>140.325000</td>\n",
              "      <td>137.825000</td>\n",
              "      <td>138.965000</td>\n",
              "      <td>3.431962e+07</td>\n",
              "    </tr>\n",
              "    <tr>\n",
              "      <th>max</th>\n",
              "      <td>245.030000</td>\n",
              "      <td>246.130000</td>\n",
              "      <td>242.920000</td>\n",
              "      <td>244.990000</td>\n",
              "      <td>1.352271e+08</td>\n",
              "    </tr>\n",
              "  </tbody>\n",
              "</table>\n",
              "</div>\n",
              "      <button class=\"colab-df-convert\" onclick=\"convertToInteractive('df-dc8a1f03-61da-4bd5-acb4-53f7abf4fe70')\"\n",
              "              title=\"Convert this dataframe to an interactive table.\"\n",
              "              style=\"display:none;\">\n",
              "        \n",
              "  <svg xmlns=\"http://www.w3.org/2000/svg\" height=\"24px\"viewBox=\"0 0 24 24\"\n",
              "       width=\"24px\">\n",
              "    <path d=\"M0 0h24v24H0V0z\" fill=\"none\"/>\n",
              "    <path d=\"M18.56 5.44l.94 2.06.94-2.06 2.06-.94-2.06-.94-.94-2.06-.94 2.06-2.06.94zm-11 1L8.5 8.5l.94-2.06 2.06-.94-2.06-.94L8.5 2.5l-.94 2.06-2.06.94zm10 10l.94 2.06.94-2.06 2.06-.94-2.06-.94-.94-2.06-.94 2.06-2.06.94z\"/><path d=\"M17.41 7.96l-1.37-1.37c-.4-.4-.92-.59-1.43-.59-.52 0-1.04.2-1.43.59L10.3 9.45l-7.72 7.72c-.78.78-.78 2.05 0 2.83L4 21.41c.39.39.9.59 1.41.59.51 0 1.02-.2 1.41-.59l7.78-7.78 2.81-2.81c.8-.78.8-2.07 0-2.86zM5.41 20L4 18.59l7.72-7.72 1.47 1.35L5.41 20z\"/>\n",
              "  </svg>\n",
              "      </button>\n",
              "      \n",
              "  <style>\n",
              "    .colab-df-container {\n",
              "      display:flex;\n",
              "      flex-wrap:wrap;\n",
              "      gap: 12px;\n",
              "    }\n",
              "\n",
              "    .colab-df-convert {\n",
              "      background-color: #E8F0FE;\n",
              "      border: none;\n",
              "      border-radius: 50%;\n",
              "      cursor: pointer;\n",
              "      display: none;\n",
              "      fill: #1967D2;\n",
              "      height: 32px;\n",
              "      padding: 0 0 0 0;\n",
              "      width: 32px;\n",
              "    }\n",
              "\n",
              "    .colab-df-convert:hover {\n",
              "      background-color: #E2EBFA;\n",
              "      box-shadow: 0px 1px 2px rgba(60, 64, 67, 0.3), 0px 1px 3px 1px rgba(60, 64, 67, 0.15);\n",
              "      fill: #174EA6;\n",
              "    }\n",
              "\n",
              "    [theme=dark] .colab-df-convert {\n",
              "      background-color: #3B4455;\n",
              "      fill: #D2E3FC;\n",
              "    }\n",
              "\n",
              "    [theme=dark] .colab-df-convert:hover {\n",
              "      background-color: #434B5C;\n",
              "      box-shadow: 0px 1px 3px 1px rgba(0, 0, 0, 0.15);\n",
              "      filter: drop-shadow(0px 1px 2px rgba(0, 0, 0, 0.3));\n",
              "      fill: #FFFFFF;\n",
              "    }\n",
              "  </style>\n",
              "\n",
              "      <script>\n",
              "        const buttonEl =\n",
              "          document.querySelector('#df-dc8a1f03-61da-4bd5-acb4-53f7abf4fe70 button.colab-df-convert');\n",
              "        buttonEl.style.display =\n",
              "          google.colab.kernel.accessAllowed ? 'block' : 'none';\n",
              "\n",
              "        async function convertToInteractive(key) {\n",
              "          const element = document.querySelector('#df-dc8a1f03-61da-4bd5-acb4-53f7abf4fe70');\n",
              "          const dataTable =\n",
              "            await google.colab.kernel.invokeFunction('convertToInteractive',\n",
              "                                                     [key], {});\n",
              "          if (!dataTable) return;\n",
              "\n",
              "          const docLinkHtml = 'Like what you see? Visit the ' +\n",
              "            '<a target=\"_blank\" href=https://colab.research.google.com/notebooks/data_table.ipynb>data table notebook</a>'\n",
              "            + ' to learn more about interactive tables.';\n",
              "          element.innerHTML = '';\n",
              "          dataTable['output_type'] = 'display_data';\n",
              "          await google.colab.output.renderOutput(dataTable, element);\n",
              "          const docLink = document.createElement('div');\n",
              "          docLink.innerHTML = docLinkHtml;\n",
              "          element.appendChild(docLink);\n",
              "        }\n",
              "      </script>\n",
              "    </div>\n",
              "  </div>\n",
              "  "
            ],
            "text/plain": [
              "              Open         High          Low        Close        Volume\n",
              "count  1511.000000  1511.000000  1511.000000  1511.000000  1.511000e+03\n",
              "mean    107.385976   108.437472   106.294533   107.422091  3.019863e+07\n",
              "std      56.691333    57.382276    55.977155    56.702299  1.425266e+07\n",
              "min      40.340000    40.740000    39.720000    40.290000  1.016120e+05\n",
              "25%      57.860000    58.060000    57.420000    57.855000  2.136213e+07\n",
              "50%      93.990000    95.100000    92.920000    93.860000  2.662962e+07\n",
              "75%     139.440000   140.325000   137.825000   138.965000  3.431962e+07\n",
              "max     245.030000   246.130000   242.920000   244.990000  1.352271e+08"
            ]
          },
          "metadata": {},
          "execution_count": 5
        }
      ]
    },
    {
      "cell_type": "code",
      "source": [
        "plt.figure(figsize=(16,8))\n",
        "plt.plot(df['Close'], label='Close Price history',color='b')\n",
        "plt.xlabel('Date',size=20)\n",
        "plt.ylabel('Stock Price',size=20)\n",
        "plt.title('Stock Price of Microsoft Over the Years',size=25);"
      ],
      "metadata": {
        "colab": {
          "base_uri": "https://localhost:8080/",
          "height": 531
        },
        "id": "fANPFbPxYNac",
        "outputId": "98c3bb9c-cf97-49e3-aa5d-cac28f1ec79f"
      },
      "execution_count": 6,
      "outputs": [
        {
          "output_type": "display_data",
          "data": {
            "image/png": "[encoded data removed]",
            "text/plain": [
              "<Figure size 1152x576 with 1 Axes>"
            ]
          },
          "metadata": {
            "needs_background": "light"
          }
        }
      ]
    },
    {
      "cell_type": "code",
      "source": [
        "# Normalizes the data\n",
        "def to_dataset(data):\n",
        "    data = data.astype('float32')\n",
        "    #scaler = MinMaxScaler(feature_range=(0,1))\n",
        "    #return scaler.fit_transform(data)\n",
        "    return data/255.\n",
        "\n",
        "# Data train and test\n",
        "def train_test(data):\n",
        "    train_size = int(len(data) * 0.75)\n",
        "    train, test = data[0:train_size, :], data[train_size:len(data), :]\n",
        "    return train, test\n",
        "\n",
        "# Time windows - use 10 days to forecast the nest 10 days \n",
        "def windows(sequence, step_in, step_out):\n",
        "    x, y = [], []\n",
        "    for i in range(len(sequence)):\n",
        "        end_i = i + step_in\n",
        "        out_i = end_i + step_out\n",
        "        if out_i > len(sequence):\n",
        "            break\n",
        "        seq_x, seq_y = sequence[i:end_i, :], sequence[end_i:out_i, :]\n",
        "        x.append(seq_x)\n",
        "        y.append(seq_y)\n",
        "    return np.array(x), np.array(y)\n",
        "\n",
        "# Model\n",
        "def creat_model(step_in, step_out, features):\n",
        "    model = Sequential()\n",
        "    model.add(LSTM(50, activation='relu', input_shape=(step_in, features)))\n",
        "    model.add(RepeatVector(step_out))\n",
        "    model.add(LSTM(200, activation='relu', return_sequences=True))\n",
        "    model.add(TimeDistributed(Dense(features)))\n",
        "    model.compile(optimizer='adam', loss='mean_squared_error', metrics=['mean_squared_error'])\n",
        "    return model\n",
        "\n",
        "# Run all functions\n",
        "def prepare_training(data, step_in, step_out):\n",
        "    data = to_dataset(data)\n",
        "    train, test = train_test(data)\n",
        "    x_train, x_test = windows(train, step_in, step_out)\n",
        "    y_train, y_test = windows(test, step_in, step_out)\n",
        "    features = 1\n",
        "    return x_train, x_test, y_train, y_test, features"
      ],
      "metadata": {
        "id": "dh4igPOmYcf-"
      },
      "execution_count": 8,
      "outputs": []
    },
    {
      "cell_type": "code",
      "source": [
        "step_in, step_out = 10, 10 \n",
        "epochs = 50 \n",
        "batch_size = 32\n",
        "\n",
        "early = EarlyStopping(monitor='val_loss',patience=5)\n",
        "reduce = ReduceLROnPlateau(monitor='val_loss', patience=3, factor=0.2, mil_lr=0.001)"
      ],
      "metadata": {
        "id": "2Sy7L0YOYt3V"
      },
      "execution_count": 38,
      "outputs": []
    },
    {
      "cell_type": "code",
      "source": [
        "data = df['Close'].values\n",
        "data = data.reshape(-1, 1)"
      ],
      "metadata": {
        "id": "ZMT5l63wYxvU"
      },
      "execution_count": 39,
      "outputs": []
    },
    {
      "cell_type": "code",
      "source": [
        "x_train, y_train, x_test, y_test, feature = prepare_training(data, step_in, step_out)"
      ],
      "metadata": {
        "id": "jS1SP82IYy59"
      },
      "execution_count": 40,
      "outputs": []
    },
    {
      "cell_type": "code",
      "source": [
        "model = creat_model(step_in, step_out, feature)"
      ],
      "metadata": {
        "id": "GP_CI4OkY3G0"
      },
      "execution_count": 41,
      "outputs": []
    },
    {
      "cell_type": "code",
      "source": [
        "history = model.fit(x_train, y_train, epochs=epochs, batch_size=144, verbose=1,\n",
        "         validation_data=(x_test, y_test), callbacks=[early,reduce])"
      ],
      "metadata": {
        "colab": {
          "base_uri": "https://localhost:8080/"
        },
        "id": "fSEuS4YQaAh-",
        "outputId": "d796bdc8-d89d-4bd9-a80c-e2f9346026ea"
      },
      "execution_count": 42,
      "outputs": [
        {
          "output_type": "stream",
          "name": "stdout",
          "text": [
            "Epoch 1/50\n",
            "8/8 [==============================] - 3s 131ms/step - loss: 0.0871 - mean_squared_error: 0.0871 - val_loss: 0.3570 - val_mean_squared_error: 0.3570 - lr: 0.0010\n",
            "Epoch 2/50\n",
            "8/8 [==============================] - 1s 80ms/step - loss: 0.0357 - mean_squared_error: 0.0357 - val_loss: 0.1326 - val_mean_squared_error: 0.1326 - lr: 0.0010\n",
            "Epoch 3/50\n",
            "8/8 [==============================] - 1s 83ms/step - loss: 0.0236 - mean_squared_error: 0.0236 - val_loss: 0.1486 - val_mean_squared_error: 0.1486 - lr: 0.0010\n",
            "Epoch 4/50\n",
            "8/8 [==============================] - 1s 79ms/step - loss: 0.0177 - mean_squared_error: 0.0177 - val_loss: 0.1240 - val_mean_squared_error: 0.1240 - lr: 0.0010\n",
            "Epoch 5/50\n",
            "8/8 [==============================] - 1s 83ms/step - loss: 0.0132 - mean_squared_error: 0.0132 - val_loss: 0.0794 - val_mean_squared_error: 0.0794 - lr: 0.0010\n",
            "Epoch 6/50\n",
            "8/8 [==============================] - 1s 81ms/step - loss: 0.0099 - mean_squared_error: 0.0099 - val_loss: 0.0731 - val_mean_squared_error: 0.0731 - lr: 0.0010\n",
            "Epoch 7/50\n",
            "8/8 [==============================] - 1s 81ms/step - loss: 0.0069 - mean_squared_error: 0.0069 - val_loss: 0.0381 - val_mean_squared_error: 0.0381 - lr: 0.0010\n",
            "Epoch 8/50\n",
            "8/8 [==============================] - 1s 80ms/step - loss: 0.0051 - mean_squared_error: 0.0051 - val_loss: 0.0247 - val_mean_squared_error: 0.0247 - lr: 0.0010\n",
            "Epoch 9/50\n",
            "8/8 [==============================] - 1s 79ms/step - loss: 0.0038 - mean_squared_error: 0.0038 - val_loss: 0.0308 - val_mean_squared_error: 0.0308 - lr: 0.0010\n",
            "Epoch 10/50\n",
            "8/8 [==============================] - 1s 78ms/step - loss: 0.0027 - mean_squared_error: 0.0027 - val_loss: 0.0575 - val_mean_squared_error: 0.0575 - lr: 0.0010\n",
            "Epoch 11/50\n",
            "8/8 [==============================] - 1s 81ms/step - loss: 0.0020 - mean_squared_error: 0.0020 - val_loss: 0.0803 - val_mean_squared_error: 0.0803 - lr: 0.0010\n",
            "Epoch 12/50\n",
            "8/8 [==============================] - 1s 77ms/step - loss: 0.0016 - mean_squared_error: 0.0016 - val_loss: 0.0679 - val_mean_squared_error: 0.0679 - lr: 2.0000e-04\n",
            "Epoch 13/50\n",
            "8/8 [==============================] - 1s 81ms/step - loss: 0.0015 - mean_squared_error: 0.0015 - val_loss: 0.0725 - val_mean_squared_error: 0.0725 - lr: 2.0000e-04\n"
          ]
        }
      ]
    },
    {
      "cell_type": "code",
      "source": [
        "plt.plot(history.history['mean_squared_error'])\n",
        "plt.plot(history.history['val_mean_squared_error'])\n",
        "plt.xlabel('Epochs')\n",
        "plt.ylabel('MSE')\n",
        "plt.legend(['Train','Test']);"
      ],
      "metadata": {
        "colab": {
          "base_uri": "https://localhost:8080/",
          "height": 282
        },
        "id": "mPlDjz28aM_s",
        "outputId": "36994e9b-e585-4017-a173-a0c294c10cca"
      },
      "execution_count": 43,
      "outputs": [
        {
          "output_type": "display_data",
          "data": {
            "image/png": "[encoded data removed]",
            "text/plain": [
              "<Figure size 432x288 with 1 Axes>"
            ]
          },
          "metadata": {
            "needs_background": "light"
          }
        }
      ]
    },
    {
      "cell_type": "code",
      "source": [
        "pred = model.predict(x_test)"
      ],
      "metadata": {
        "id": "IKK7etDdaZjk"
      },
      "execution_count": 44,
      "outputs": []
    },
    {
      "cell_type": "code",
      "source": [
        "x = x_test[0]*255.0\n",
        "y = pred[0]*255.0"
      ],
      "metadata": {
        "id": "ajFUsR08ahSl"
      },
      "execution_count": 45,
      "outputs": []
    },
    {
      "cell_type": "code",
      "source": [
        "plt.plot(x)\n",
        "plt.plot(y)\n",
        "plt.legend(['Real Value','Predicted Value']);"
      ],
      "metadata": {
        "colab": {
          "base_uri": "https://localhost:8080/",
          "height": 266
        },
        "id": "y1OIDuFsai_t",
        "outputId": "696633fd-2c6c-478a-bf22-14f8e6db4b79"
      },
      "execution_count": 46,
      "outputs": [
        {
          "output_type": "display_data",
          "data": {
            "image/png": "[encoded data removed]",
            "text/plain": [
              "<Figure size 432x288 with 1 Axes>"
            ]
          },
          "metadata": {
            "needs_background": "light"
          }
        }
      ]
    }
  ]
}