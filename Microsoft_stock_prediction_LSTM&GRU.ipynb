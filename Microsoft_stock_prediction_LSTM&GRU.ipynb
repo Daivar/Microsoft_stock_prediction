{
  "nbformat": 4,
  "nbformat_minor": 0,
  "metadata": {
    "colab": {
      "name": "Microsoft_stock_prediction_LSTM&GRU.ipynb",
      "provenance": [],
      "authorship_tag": "ABX9TyOSZNbFJWVK0mr5xgKrC1ex",
      "include_colab_link": true
    },
    "kernelspec": {
      "name": "python3",
      "display_name": "Python 3"
    },
    "language_info": {
      "name": "python"
    }
  },
  "cells": [
    {
      "cell_type": "markdown",
      "metadata": {
        "id": "view-in-github",
        "colab_type": "text"
      },
      "source": [
        "<a href=\"https://colab.research.google.com/github/Daivar/Microsoft_stock_prediction/blob/main/Microsoft_stock_prediction_LSTM%26GRU.ipynb\" target=\"_parent\"><img src=\"https://colab.research.google.com/assets/colab-badge.svg\" alt=\"Open In Colab\"/></a>"
      ]
    },
    {
      "cell_type": "code",
      "execution_count": null,
      "metadata": {
        "id": "Vmlz2LOqXJh1"
      },
      "outputs": [],
      "source": [
        "import pandas as pd\n",
        "import numpy as np\n",
        "\n",
        "import matplotlib.pyplot as plt\n",
        "import seaborn as sns\n",
        "sns.set(rc={'figure.figsize':(16,8)})\n",
        "sns.set(font_scale=1.3)\n",
        "plt.style.use('fivethirtyeight')\n",
        "\n",
        "from sklearn.preprocessing import MinMaxScaler\n",
        "from tensorflow.keras.models import Sequential\n",
        "from tensorflow.keras.layers import Dense, Dropout, LSTM, RepeatVector, TimeDistributed\n",
        "from tensorflow.keras.callbacks import EarlyStopping, ReduceLROnPlateau\n",
        "\n",
        "import warnings\n",
        "warnings.filterwarnings('ignore')"
      ]
    },
    {
      "cell_type": "code",
      "source": [
        "df = pd.read_csv('Microsoft_Stock.csv', infer_datetime_format=True, parse_dates=['Date'], index_col=['Date'])\n",
        "df.head"
      ],
      "metadata": {
        "colab": {
          "base_uri": "https://localhost:8080/"
        },
        "id": "gbbYN-xhXxMJ",
        "outputId": "2bf46747-f8c8-43b4-8877-b973ae2f0906"
      },
      "execution_count": null,
      "outputs": [
        {
          "output_type": "execute_result",
          "data": {
            "text/plain": [
              "<bound method NDFrame.head of                        Open    High     Low   Close    Volume\n",
              "Date                                                         \n",
              "2015-04-01 16:00:00   40.60   40.76   40.31   40.72  36865322\n",
              "2015-04-02 16:00:00   40.66   40.74   40.12   40.29  37487476\n",
              "2015-04-06 16:00:00   40.34   41.78   40.18   41.55  39223692\n",
              "2015-04-07 16:00:00   41.61   41.91   41.31   41.53  28809375\n",
              "2015-04-08 16:00:00   41.48   41.69   41.04   41.42  24753438\n",
              "...                     ...     ...     ...     ...       ...\n",
              "2021-03-25 16:00:00  235.30  236.94  231.57  232.34  34061853\n",
              "2021-03-26 16:00:00  231.55  236.71  231.55  236.48  25479853\n",
              "2021-03-29 16:00:00  236.59  236.80  231.88  235.24  25227455\n",
              "2021-03-30 16:00:00  233.53  233.85  231.10  231.85  24792012\n",
              "2021-03-31 16:00:00  232.91  239.10  232.39  235.77  43623471\n",
              "\n",
              "[1511 rows x 5 columns]>"
            ]
          },
          "metadata": {},
          "execution_count": 2
        }
      ]
    },
    {
      "cell_type": "code",
      "source": [
        "df.info()"
      ],
      "metadata": {
        "colab": {
          "base_uri": "https://localhost:8080/"
        },
        "id": "eA47HuBfYHew",
        "outputId": "055ffcd8-3d63-444e-cbc6-976e44ee76b3"
      },
      "execution_count": null,
      "outputs": [
        {
          "output_type": "stream",
          "name": "stdout",
          "text": [
            "<class 'pandas.core.frame.DataFrame'>\n",
            "DatetimeIndex: 1511 entries, 2015-04-01 16:00:00 to 2021-03-31 16:00:00\n",
            "Data columns (total 5 columns):\n",
            " #   Column  Non-Null Count  Dtype  \n",
            "---  ------  --------------  -----  \n",
            " 0   Open    1511 non-null   float64\n",
            " 1   High    1511 non-null   float64\n",
            " 2   Low     1511 non-null   float64\n",
            " 3   Close   1511 non-null   float64\n",
            " 4   Volume  1511 non-null   int64  \n",
            "dtypes: float64(4), int64(1)\n",
            "memory usage: 70.8 KB\n"
          ]
        }
      ]
    },
    {
      "cell_type": "code",
      "source": [
        "df.describe()"
      ],
      "metadata": {
        "colab": {
          "base_uri": "https://localhost:8080/",
          "height": 300
        },
        "id": "cMkO1ATbYLsE",
        "outputId": "cc4f13e6-b3ea-45c0-a4f9-36886b2df86e"
      },
      "execution_count": null,
      "outputs": [
        {
          "output_type": "execute_result",
          "data": {
            "text/html": [
              "\n",
              "  <div id=\"df-e4d221e1-9511-4074-ad34-e0d4a989d5a6\">\n",
              "    <div class=\"colab-df-container\">\n",
              "      <div>\n",
              "<style scoped>\n",
              "    .dataframe tbody tr th:only-of-type {\n",
              "        vertical-align: middle;\n",
              "    }\n",
              "\n",
              "    .dataframe tbody tr th {\n",
              "        vertical-align: top;\n",
              "    }\n",
              "\n",
              "    .dataframe thead th {\n",
              "        text-align: right;\n",
              "    }\n",
              "</style>\n",
              "<table border=\"1\" class=\"dataframe\">\n",
              "  <thead>\n",
              "    <tr style=\"text-align: right;\">\n",
              "      <th></th>\n",
              "      <th>Open</th>\n",
              "      <th>High</th>\n",
              "      <th>Low</th>\n",
              "      <th>Close</th>\n",
              "      <th>Volume</th>\n",
              "    </tr>\n",
              "  </thead>\n",
              "  <tbody>\n",
              "    <tr>\n",
              "      <th>count</th>\n",
              "      <td>1511.000000</td>\n",
              "      <td>1511.000000</td>\n",
              "      <td>1511.000000</td>\n",
              "      <td>1511.000000</td>\n",
              "      <td>1.511000e+03</td>\n",
              "    </tr>\n",
              "    <tr>\n",
              "      <th>mean</th>\n",
              "      <td>107.385976</td>\n",
              "      <td>108.437472</td>\n",
              "      <td>106.294533</td>\n",
              "      <td>107.422091</td>\n",
              "      <td>3.019863e+07</td>\n",
              "    </tr>\n",
              "    <tr>\n",
              "      <th>std</th>\n",
              "      <td>56.691333</td>\n",
              "      <td>57.382276</td>\n",
              "      <td>55.977155</td>\n",
              "      <td>56.702299</td>\n",
              "      <td>1.425266e+07</td>\n",
              "    </tr>\n",
              "    <tr>\n",
              "      <th>min</th>\n",
              "      <td>40.340000</td>\n",
              "      <td>40.740000</td>\n",
              "      <td>39.720000</td>\n",
              "      <td>40.290000</td>\n",
              "      <td>1.016120e+05</td>\n",
              "    </tr>\n",
              "    <tr>\n",
              "      <th>25%</th>\n",
              "      <td>57.860000</td>\n",
              "      <td>58.060000</td>\n",
              "      <td>57.420000</td>\n",
              "      <td>57.855000</td>\n",
              "      <td>2.136213e+07</td>\n",
              "    </tr>\n",
              "    <tr>\n",
              "      <th>50%</th>\n",
              "      <td>93.990000</td>\n",
              "      <td>95.100000</td>\n",
              "      <td>92.920000</td>\n",
              "      <td>93.860000</td>\n",
              "      <td>2.662962e+07</td>\n",
              "    </tr>\n",
              "    <tr>\n",
              "      <th>75%</th>\n",
              "      <td>139.440000</td>\n",
              "      <td>140.325000</td>\n",
              "      <td>137.825000</td>\n",
              "      <td>138.965000</td>\n",
              "      <td>3.431962e+07</td>\n",
              "    </tr>\n",
              "    <tr>\n",
              "      <th>max</th>\n",
              "      <td>245.030000</td>\n",
              "      <td>246.130000</td>\n",
              "      <td>242.920000</td>\n",
              "      <td>244.990000</td>\n",
              "      <td>1.352271e+08</td>\n",
              "    </tr>\n",
              "  </tbody>\n",
              "</table>\n",
              "</div>\n",
              "      <button class=\"colab-df-convert\" onclick=\"convertToInteractive('df-e4d221e1-9511-4074-ad34-e0d4a989d5a6')\"\n",
              "              title=\"Convert this dataframe to an interactive table.\"\n",
              "              style=\"display:none;\">\n",
              "        \n",
              "  <svg xmlns=\"http://www.w3.org/2000/svg\" height=\"24px\"viewBox=\"0 0 24 24\"\n",
              "       width=\"24px\">\n",
              "    <path d=\"M0 0h24v24H0V0z\" fill=\"none\"/>\n",
              "    <path d=\"M18.56 5.44l.94 2.06.94-2.06 2.06-.94-2.06-.94-.94-2.06-.94 2.06-2.06.94zm-11 1L8.5 8.5l.94-2.06 2.06-.94-2.06-.94L8.5 2.5l-.94 2.06-2.06.94zm10 10l.94 2.06.94-2.06 2.06-.94-2.06-.94-.94-2.06-.94 2.06-2.06.94z\"/><path d=\"M17.41 7.96l-1.37-1.37c-.4-.4-.92-.59-1.43-.59-.52 0-1.04.2-1.43.59L10.3 9.45l-7.72 7.72c-.78.78-.78 2.05 0 2.83L4 21.41c.39.39.9.59 1.41.59.51 0 1.02-.2 1.41-.59l7.78-7.78 2.81-2.81c.8-.78.8-2.07 0-2.86zM5.41 20L4 18.59l7.72-7.72 1.47 1.35L5.41 20z\"/>\n",
              "  </svg>\n",
              "      </button>\n",
              "      \n",
              "  <style>\n",
              "    .colab-df-container {\n",
              "      display:flex;\n",
              "      flex-wrap:wrap;\n",
              "      gap: 12px;\n",
              "    }\n",
              "\n",
              "    .colab-df-convert {\n",
              "      background-color: #E8F0FE;\n",
              "      border: none;\n",
              "      border-radius: 50%;\n",
              "      cursor: pointer;\n",
              "      display: none;\n",
              "      fill: #1967D2;\n",
              "      height: 32px;\n",
              "      padding: 0 0 0 0;\n",
              "      width: 32px;\n",
              "    }\n",
              "\n",
              "    .colab-df-convert:hover {\n",
              "      background-color: #E2EBFA;\n",
              "      box-shadow: 0px 1px 2px rgba(60, 64, 67, 0.3), 0px 1px 3px 1px rgba(60, 64, 67, 0.15);\n",
              "      fill: #174EA6;\n",
              "    }\n",
              "\n",
              "    [theme=dark] .colab-df-convert {\n",
              "      background-color: #3B4455;\n",
              "      fill: #D2E3FC;\n",
              "    }\n",
              "\n",
              "    [theme=dark] .colab-df-convert:hover {\n",
              "      background-color: #434B5C;\n",
              "      box-shadow: 0px 1px 3px 1px rgba(0, 0, 0, 0.15);\n",
              "      filter: drop-shadow(0px 1px 2px rgba(0, 0, 0, 0.3));\n",
              "      fill: #FFFFFF;\n",
              "    }\n",
              "  </style>\n",
              "\n",
              "      <script>\n",
              "        const buttonEl =\n",
              "          document.querySelector('#df-e4d221e1-9511-4074-ad34-e0d4a989d5a6 button.colab-df-convert');\n",
              "        buttonEl.style.display =\n",
              "          google.colab.kernel.accessAllowed ? 'block' : 'none';\n",
              "\n",
              "        async function convertToInteractive(key) {\n",
              "          const element = document.querySelector('#df-e4d221e1-9511-4074-ad34-e0d4a989d5a6');\n",
              "          const dataTable =\n",
              "            await google.colab.kernel.invokeFunction('convertToInteractive',\n",
              "                                                     [key], {});\n",
              "          if (!dataTable) return;\n",
              "\n",
              "          const docLinkHtml = 'Like what you see? Visit the ' +\n",
              "            '<a target=\"_blank\" href=https://colab.research.google.com/notebooks/data_table.ipynb>data table notebook</a>'\n",
              "            + ' to learn more about interactive tables.';\n",
              "          element.innerHTML = '';\n",
              "          dataTable['output_type'] = 'display_data';\n",
              "          await google.colab.output.renderOutput(dataTable, element);\n",
              "          const docLink = document.createElement('div');\n",
              "          docLink.innerHTML = docLinkHtml;\n",
              "          element.appendChild(docLink);\n",
              "        }\n",
              "      </script>\n",
              "    </div>\n",
              "  </div>\n",
              "  "
            ],
            "text/plain": [
              "              Open         High          Low        Close        Volume\n",
              "count  1511.000000  1511.000000  1511.000000  1511.000000  1.511000e+03\n",
              "mean    107.385976   108.437472   106.294533   107.422091  3.019863e+07\n",
              "std      56.691333    57.382276    55.977155    56.702299  1.425266e+07\n",
              "min      40.340000    40.740000    39.720000    40.290000  1.016120e+05\n",
              "25%      57.860000    58.060000    57.420000    57.855000  2.136213e+07\n",
              "50%      93.990000    95.100000    92.920000    93.860000  2.662962e+07\n",
              "75%     139.440000   140.325000   137.825000   138.965000  3.431962e+07\n",
              "max     245.030000   246.130000   242.920000   244.990000  1.352271e+08"
            ]
          },
          "metadata": {},
          "execution_count": 4
        }
      ]
    },
    {
      "cell_type": "code",
      "source": [
        "plt.figure(figsize=(16,8))\n",
        "plt.plot(df['Close'], label='Close Price history',color='b')\n",
        "plt.xlabel('Date',size=20)\n",
        "plt.ylabel('Stock Price',size=20)\n",
        "plt.title('Stock Price of Microsoft Over the Years',size=25);"
      ],
      "metadata": {
        "colab": {
          "base_uri": "https://localhost:8080/",
          "height": 531
        },
        "id": "fANPFbPxYNac",
        "outputId": "71055344-454a-48c3-f7a7-8f1184364ee6"
      },
      "execution_count": null,
      "outputs": [
        {
          "output_type": "display_data",
          "data": {
            "image/png": "[encoded data removed]",
            "text/plain": [
              "<Figure size 1152x576 with 1 Axes>"
            ]
          },
          "metadata": {
            "needs_background": "light"
          }
        }
      ]
    },
    {
      "cell_type": "code",
      "source": [
        "# Normalizes the data\n",
        "def to_dataset(data):\n",
        "    data = data.astype('float32')\n",
        "    #scaler = MinMaxScaler(feature_range=(0,1))\n",
        "    #return scaler.fit_transform(data)\n",
        "    return data/255.\n",
        "\n",
        "# Data train and test\n",
        "def train_test(data):\n",
        "    train_size = int(len(data) * 0.75)\n",
        "    train, test = data[0:train_size, :], data[train_size:len(data), :]\n",
        "    return train, test\n",
        "\n",
        "# Time windows - use 10 days to forecast the nest 10 days \n",
        "def windows(sequence, step_in, step_out):\n",
        "    x, y = [], []\n",
        "    for i in range(len(sequence)):\n",
        "        end_i = i + step_in\n",
        "        out_i = end_i + step_out\n",
        "        if out_i > len(sequence):\n",
        "            break\n",
        "        seq_x, seq_y = sequence[i:end_i, :], sequence[end_i:out_i, :]\n",
        "        x.append(seq_x)\n",
        "        y.append(seq_y)\n",
        "    return np.array(x), np.array(y)\n",
        "\n",
        "# Model\n",
        "def creat_model(step_in, step_out, features):\n",
        "    model = Sequential()\n",
        "    model.add(LSTM(50, activation='relu', input_shape=(step_in, features)))\n",
        "    model.add(RepeatVector(step_out))\n",
        "    model.add(LSTM(200, activation='relu', return_sequences=True))\n",
        "    model.add(TimeDistributed(Dense(features)))\n",
        "    model.compile(optimizer='adam', loss='mean_squared_error', metrics=['mean_squared_error'])\n",
        "    return model\n",
        "\n",
        "# Run all functions\n",
        "def prepare_training(data, step_in, step_out):\n",
        "    data = to_dataset(data)\n",
        "    train, test = train_test(data)\n",
        "    x_train, x_test = windows(train, step_in, step_out)\n",
        "    y_train, y_test = windows(test, step_in, step_out)\n",
        "    features = 1\n",
        "    return x_train, x_test, y_train, y_test, features"
      ],
      "metadata": {
        "id": "dh4igPOmYcf-"
      },
      "execution_count": null,
      "outputs": []
    },
    {
      "cell_type": "code",
      "source": [
        "step_in, step_out = 10, 10 \n",
        "epochs = 50 \n",
        "batch_size = 32\n",
        "\n",
        "early = EarlyStopping(monitor='val_loss',patience=5)\n",
        "reduce = ReduceLROnPlateau(monitor='val_loss', patience=3, factor=0.2, mil_lr=0.001)"
      ],
      "metadata": {
        "id": "2Sy7L0YOYt3V"
      },
      "execution_count": null,
      "outputs": []
    },
    {
      "cell_type": "code",
      "source": [
        "data = df['Close'].values\n",
        "data = data.reshape(-1, 1)"
      ],
      "metadata": {
        "id": "ZMT5l63wYxvU"
      },
      "execution_count": null,
      "outputs": []
    },
    {
      "cell_type": "code",
      "source": [
        "x_train, y_train, x_test, y_test, feature = prepare_training(data, step_in, step_out)"
      ],
      "metadata": {
        "id": "jS1SP82IYy59"
      },
      "execution_count": null,
      "outputs": []
    },
    {
      "cell_type": "code",
      "source": [
        "model = creat_model(step_in, step_out, feature)"
      ],
      "metadata": {
        "id": "GP_CI4OkY3G0"
      },
      "execution_count": null,
      "outputs": []
    },
    {
      "cell_type": "code",
      "source": [
        "history = model.fit(x_train, y_train, epochs=epochs, batch_size=144, verbose=1,\n",
        "         validation_data=(x_test, y_test), callbacks=[early,reduce])"
      ],
      "metadata": {
        "colab": {
          "base_uri": "https://localhost:8080/"
        },
        "id": "fSEuS4YQaAh-",
        "outputId": "75139db9-8496-4a5a-89ea-bfeaf049f096"
      },
      "execution_count": null,
      "outputs": [
        {
          "output_type": "stream",
          "name": "stdout",
          "text": [
            "Epoch 1/50\n",
            "8/8 [==============================] - 4s 160ms/step - loss: 0.0741 - mean_squared_error: 0.0741 - val_loss: 0.2275 - val_mean_squared_error: 0.2275 - lr: 0.0010\n",
            "Epoch 2/50\n",
            "8/8 [==============================] - 1s 84ms/step - loss: 0.0240 - mean_squared_error: 0.0240 - val_loss: 0.0908 - val_mean_squared_error: 0.0908 - lr: 0.0010\n",
            "Epoch 3/50\n",
            "8/8 [==============================] - 1s 80ms/step - loss: 0.0155 - mean_squared_error: 0.0155 - val_loss: 0.1288 - val_mean_squared_error: 0.1288 - lr: 0.0010\n",
            "Epoch 4/50\n",
            "8/8 [==============================] - 1s 80ms/step - loss: 0.0125 - mean_squared_error: 0.0125 - val_loss: 0.0642 - val_mean_squared_error: 0.0642 - lr: 0.0010\n",
            "Epoch 5/50\n",
            "8/8 [==============================] - 1s 81ms/step - loss: 0.0094 - mean_squared_error: 0.0094 - val_loss: 0.0607 - val_mean_squared_error: 0.0607 - lr: 0.0010\n",
            "Epoch 6/50\n",
            "8/8 [==============================] - 1s 82ms/step - loss: 0.0066 - mean_squared_error: 0.0066 - val_loss: 0.0339 - val_mean_squared_error: 0.0339 - lr: 0.0010\n",
            "Epoch 7/50\n",
            "8/8 [==============================] - 1s 82ms/step - loss: 0.0044 - mean_squared_error: 0.0044 - val_loss: 0.0218 - val_mean_squared_error: 0.0218 - lr: 0.0010\n",
            "Epoch 8/50\n",
            "8/8 [==============================] - 1s 80ms/step - loss: 0.0033 - mean_squared_error: 0.0033 - val_loss: 0.0163 - val_mean_squared_error: 0.0163 - lr: 0.0010\n",
            "Epoch 9/50\n",
            "8/8 [==============================] - 1s 84ms/step - loss: 0.0024 - mean_squared_error: 0.0024 - val_loss: 0.0252 - val_mean_squared_error: 0.0252 - lr: 0.0010\n",
            "Epoch 10/50\n",
            "8/8 [==============================] - 1s 81ms/step - loss: 0.0018 - mean_squared_error: 0.0018 - val_loss: 0.0404 - val_mean_squared_error: 0.0404 - lr: 0.0010\n",
            "Epoch 11/50\n",
            "8/8 [==============================] - 1s 82ms/step - loss: 0.0014 - mean_squared_error: 0.0014 - val_loss: 0.0477 - val_mean_squared_error: 0.0477 - lr: 0.0010\n",
            "Epoch 12/50\n",
            "8/8 [==============================] - 1s 84ms/step - loss: 0.0011 - mean_squared_error: 0.0011 - val_loss: 0.0495 - val_mean_squared_error: 0.0495 - lr: 2.0000e-04\n",
            "Epoch 13/50\n",
            "8/8 [==============================] - 1s 83ms/step - loss: 0.0011 - mean_squared_error: 0.0011 - val_loss: 0.0455 - val_mean_squared_error: 0.0455 - lr: 2.0000e-04\n"
          ]
        }
      ]
    },
    {
      "cell_type": "code",
      "source": [
        "plt.plot(history.history['mean_squared_error'])\n",
        "plt.plot(history.history['val_mean_squared_error'])\n",
        "plt.xlabel('Epochs')\n",
        "plt.ylabel('MSE')\n",
        "plt.legend(['Train','Test']);"
      ],
      "metadata": {
        "colab": {
          "base_uri": "https://localhost:8080/",
          "height": 282
        },
        "id": "mPlDjz28aM_s",
        "outputId": "2eac20a0-7f68-4dce-c528-916c5e44de40"
      },
      "execution_count": null,
      "outputs": [
        {
          "output_type": "display_data",
          "data": {
            "image/png": "[encoded data removed]",
            "text/plain": [
              "<Figure size 432x288 with 1 Axes>"
            ]
          },
          "metadata": {
            "needs_background": "light"
          }
        }
      ]
    },
    {
      "cell_type": "code",
      "source": [
        "pred = model.predict(x_test)"
      ],
      "metadata": {
        "id": "IKK7etDdaZjk"
      },
      "execution_count": null,
      "outputs": []
    },
    {
      "cell_type": "code",
      "source": [
        "x = x_test[0]*255.0\n",
        "y = pred[0]*255.0"
      ],
      "metadata": {
        "id": "ajFUsR08ahSl"
      },
      "execution_count": null,
      "outputs": []
    },
    {
      "cell_type": "code",
      "source": [
        "plt.plot(x)\n",
        "plt.plot(y)\n",
        "plt.legend(['Real Value','Predicted Value']);"
      ],
      "metadata": {
        "colab": {
          "base_uri": "https://localhost:8080/",
          "height": 266
        },
        "id": "y1OIDuFsai_t",
        "outputId": "bfe4c105-04fd-4163-f95e-80e709c794c7"
      },
      "execution_count": null,
      "outputs": [
        {
          "output_type": "display_data",
          "data": {
            "image/png": "[encoded data removed]",
            "text/plain": [
              "<Figure size 432x288 with 1 Axes>"
            ]
          },
          "metadata": {
            "needs_background": "light"
          }
        }
      ]
    },
    {
      "cell_type": "code",
      "source": [
        "model.summary()"
      ],
      "metadata": {
        "colab": {
          "base_uri": "https://localhost:8080/"
        },
        "id": "0ipH5hZu3m2U",
        "outputId": "a7df1453-32b4-4cc0-84f2-fe9f51d03355"
      },
      "execution_count": null,
      "outputs": [
        {
          "output_type": "stream",
          "name": "stdout",
          "text": [
            "Model: \"sequential\"\n",
            "_________________________________________________________________\n",
            " Layer (type)                Output Shape              Param #   \n",
            "=================================================================\n",
            " lstm (LSTM)                 (None, 50)                10400     \n",
            "                                                                 \n",
            " repeat_vector (RepeatVector  (None, 10, 50)           0         \n",
            " )                                                               \n",
            "                                                                 \n",
            " lstm_1 (LSTM)               (None, 10, 200)           200800    \n",
            "                                                                 \n",
            " time_distributed (TimeDistr  (None, 10, 1)            201       \n",
            " ibuted)                                                         \n",
            "                                                                 \n",
            "=================================================================\n",
            "Total params: 211,401\n",
            "Trainable params: 211,401\n",
            "Non-trainable params: 0\n",
            "_________________________________________________________________\n"
          ]
        }
      ]
    },
    {
      "cell_type": "code",
      "source": [
        "np.random.seed(42)"
      ],
      "metadata": {
        "id": "Hnq4cI9k9Ndm"
      },
      "execution_count": null,
      "outputs": []
    },
    {
      "cell_type": "code",
      "source": [
        "def generate_time_series(batch_size, n_steps):\n",
        "    freq1, freq2, offsets1, offsets2 = np.random.rand(4, batch_size, 1)\n",
        "    time = np.linspace(0, 1, n_steps)\n",
        "    series = 0.5 * np.sin((time - offsets1) * (freq1 * 10 + 10))  #   wave 1\n",
        "    series += 0.2 * np.sin((time - offsets2) * (freq2 * 20 + 20)) # + wave 2\n",
        "    series += 0.1 * (np.random.rand(batch_size, n_steps) - 0.5)   # + noise\n",
        "    return series[..., np.newaxis].astype(np.float32)"
      ],
      "metadata": {
        "id": "cfQzUZea9SRB"
      },
      "execution_count": null,
      "outputs": []
    },
    {
      "cell_type": "code",
      "source": [
        "from tensorflow.keras.layers import GRU\n",
        "model.add(GRU(100,dropout=0.2, recurrent_dropout=0.2))\n",
        "\n",
        "def creat_model(step_in, step_out, features):\n",
        "    model = Sequential()\n",
        "    model.add(GRU(50, activation='relu', input_shape=(step_in, features)))\n",
        "    model.add(RepeatVector(step_out))\n",
        "    model.add(GRU(200, activation='relu', return_sequences=True))\n",
        "    model.add(TimeDistributed(Dense(features)))\n",
        "    model.compile(optimizer='adam', loss='mean_squared_error', metrics=['mean_squared_error'])\n",
        "    return model\n",
        "\n",
        "# Run all functions\n",
        "def prepare_training(data, step_in, step_out):\n",
        "    data = to_dataset(data)\n",
        "    train, test = train_test(data)\n",
        "    x_train, x_test = windows(train, step_in, step_out)\n",
        "    y_train, y_test = windows(test, step_in, step_out)\n",
        "    features = 1\n",
        "    return x_train, x_test, y_train, y_test, features\n",
        "\n",
        "step_in, step_out = 10, 10 \n",
        "epochs = 50 \n",
        "batch_size = 32\n",
        "\n",
        "early = EarlyStopping(monitor='val_loss',patience=5)\n",
        "reduce = ReduceLROnPlateau(monitor='val_loss', patience=3, factor=0.2, mil_lr=0.001)\n",
        "\n",
        "data = df['Close'].values\n",
        "data = data.reshape(-1, 1)\n",
        "\n",
        "x_train, y_train, x_test, y_test, feature = prepare_training(data, step_in, step_out)\n",
        "\n",
        "model = creat_model(step_in, step_out, feature)"
      ],
      "metadata": {
        "id": "3QED1zBy8cc-"
      },
      "execution_count": null,
      "outputs": []
    },
    {
      "cell_type": "code",
      "source": [
        "history = model.fit(x_train, y_train, epochs=epochs, batch_size=144, verbose=1,\n",
        "         validation_data=(x_test, y_test), callbacks=[early,reduce])"
      ],
      "metadata": {
        "colab": {
          "base_uri": "https://localhost:8080/"
        },
        "id": "r-4p1xKk-bdm",
        "outputId": "2d1e3ad3-cd6e-430d-db27-0a0f52b5d598"
      },
      "execution_count": null,
      "outputs": [
        {
          "output_type": "stream",
          "name": "stdout",
          "text": [
            "Epoch 1/50\n",
            "8/8 [==============================] - 1s 72ms/step - loss: 0.0051 - mean_squared_error: 0.0051 - val_loss: 0.0560 - val_mean_squared_error: 0.0560 - lr: 2.0000e-04\n",
            "Epoch 2/50\n",
            "8/8 [==============================] - 1s 69ms/step - loss: 0.0050 - mean_squared_error: 0.0050 - val_loss: 0.0549 - val_mean_squared_error: 0.0549 - lr: 2.0000e-04\n",
            "Epoch 3/50\n",
            "8/8 [==============================] - 1s 69ms/step - loss: 0.0048 - mean_squared_error: 0.0048 - val_loss: 0.0513 - val_mean_squared_error: 0.0513 - lr: 2.0000e-04\n",
            "Epoch 4/50\n",
            "8/8 [==============================] - 1s 66ms/step - loss: 0.0046 - mean_squared_error: 0.0046 - val_loss: 0.0474 - val_mean_squared_error: 0.0474 - lr: 2.0000e-04\n",
            "Epoch 5/50\n",
            "8/8 [==============================] - 1s 69ms/step - loss: 0.0044 - mean_squared_error: 0.0044 - val_loss: 0.0451 - val_mean_squared_error: 0.0451 - lr: 2.0000e-04\n",
            "Epoch 6/50\n",
            "8/8 [==============================] - 1s 67ms/step - loss: 0.0042 - mean_squared_error: 0.0042 - val_loss: 0.0429 - val_mean_squared_error: 0.0429 - lr: 2.0000e-04\n",
            "Epoch 7/50\n",
            "8/8 [==============================] - 1s 70ms/step - loss: 0.0041 - mean_squared_error: 0.0041 - val_loss: 0.0407 - val_mean_squared_error: 0.0407 - lr: 2.0000e-04\n",
            "Epoch 8/50\n",
            "8/8 [==============================] - 1s 68ms/step - loss: 0.0039 - mean_squared_error: 0.0039 - val_loss: 0.0393 - val_mean_squared_error: 0.0393 - lr: 2.0000e-04\n",
            "Epoch 9/50\n",
            "8/8 [==============================] - 1s 68ms/step - loss: 0.0037 - mean_squared_error: 0.0037 - val_loss: 0.0368 - val_mean_squared_error: 0.0368 - lr: 2.0000e-04\n",
            "Epoch 10/50\n",
            "8/8 [==============================] - 1s 69ms/step - loss: 0.0035 - mean_squared_error: 0.0035 - val_loss: 0.0340 - val_mean_squared_error: 0.0340 - lr: 2.0000e-04\n",
            "Epoch 11/50\n",
            "8/8 [==============================] - 1s 73ms/step - loss: 0.0033 - mean_squared_error: 0.0033 - val_loss: 0.0315 - val_mean_squared_error: 0.0315 - lr: 2.0000e-04\n",
            "Epoch 12/50\n",
            "8/8 [==============================] - 1s 68ms/step - loss: 0.0031 - mean_squared_error: 0.0031 - val_loss: 0.0293 - val_mean_squared_error: 0.0293 - lr: 2.0000e-04\n",
            "Epoch 13/50\n",
            "8/8 [==============================] - 1s 71ms/step - loss: 0.0029 - mean_squared_error: 0.0029 - val_loss: 0.0275 - val_mean_squared_error: 0.0275 - lr: 2.0000e-04\n",
            "Epoch 14/50\n",
            "8/8 [==============================] - 1s 67ms/step - loss: 0.0027 - mean_squared_error: 0.0027 - val_loss: 0.0250 - val_mean_squared_error: 0.0250 - lr: 2.0000e-04\n",
            "Epoch 15/50\n",
            "8/8 [==============================] - 1s 68ms/step - loss: 0.0025 - mean_squared_error: 0.0025 - val_loss: 0.0226 - val_mean_squared_error: 0.0226 - lr: 2.0000e-04\n",
            "Epoch 16/50\n",
            "8/8 [==============================] - 1s 68ms/step - loss: 0.0023 - mean_squared_error: 0.0023 - val_loss: 0.0205 - val_mean_squared_error: 0.0205 - lr: 2.0000e-04\n",
            "Epoch 17/50\n",
            "8/8 [==============================] - 1s 69ms/step - loss: 0.0022 - mean_squared_error: 0.0022 - val_loss: 0.0188 - val_mean_squared_error: 0.0188 - lr: 2.0000e-04\n",
            "Epoch 18/50\n",
            "8/8 [==============================] - 1s 72ms/step - loss: 0.0020 - mean_squared_error: 0.0020 - val_loss: 0.0166 - val_mean_squared_error: 0.0166 - lr: 2.0000e-04\n",
            "Epoch 19/50\n",
            "8/8 [==============================] - 1s 70ms/step - loss: 0.0018 - mean_squared_error: 0.0018 - val_loss: 0.0144 - val_mean_squared_error: 0.0144 - lr: 2.0000e-04\n",
            "Epoch 20/50\n",
            "8/8 [==============================] - 1s 69ms/step - loss: 0.0016 - mean_squared_error: 0.0016 - val_loss: 0.0128 - val_mean_squared_error: 0.0128 - lr: 2.0000e-04\n",
            "Epoch 21/50\n",
            "8/8 [==============================] - 1s 69ms/step - loss: 0.0015 - mean_squared_error: 0.0015 - val_loss: 0.0109 - val_mean_squared_error: 0.0109 - lr: 2.0000e-04\n",
            "Epoch 22/50\n",
            "8/8 [==============================] - 1s 70ms/step - loss: 0.0013 - mean_squared_error: 0.0013 - val_loss: 0.0094 - val_mean_squared_error: 0.0094 - lr: 2.0000e-04\n",
            "Epoch 23/50\n",
            "8/8 [==============================] - 1s 69ms/step - loss: 0.0012 - mean_squared_error: 0.0012 - val_loss: 0.0080 - val_mean_squared_error: 0.0080 - lr: 2.0000e-04\n",
            "Epoch 24/50\n",
            "8/8 [==============================] - 1s 72ms/step - loss: 0.0011 - mean_squared_error: 0.0011 - val_loss: 0.0068 - val_mean_squared_error: 0.0068 - lr: 2.0000e-04\n",
            "Epoch 25/50\n",
            "8/8 [==============================] - 1s 69ms/step - loss: 9.5253e-04 - mean_squared_error: 9.5253e-04 - val_loss: 0.0060 - val_mean_squared_error: 0.0060 - lr: 2.0000e-04\n",
            "Epoch 26/50\n",
            "8/8 [==============================] - 1s 71ms/step - loss: 8.5967e-04 - mean_squared_error: 8.5967e-04 - val_loss: 0.0051 - val_mean_squared_error: 0.0051 - lr: 2.0000e-04\n",
            "Epoch 27/50\n",
            "8/8 [==============================] - 1s 72ms/step - loss: 7.8126e-04 - mean_squared_error: 7.8126e-04 - val_loss: 0.0045 - val_mean_squared_error: 0.0045 - lr: 2.0000e-04\n",
            "Epoch 28/50\n",
            "8/8 [==============================] - 1s 70ms/step - loss: 7.1610e-04 - mean_squared_error: 7.1610e-04 - val_loss: 0.0041 - val_mean_squared_error: 0.0041 - lr: 2.0000e-04\n",
            "Epoch 29/50\n",
            "8/8 [==============================] - 1s 72ms/step - loss: 6.6132e-04 - mean_squared_error: 6.6132e-04 - val_loss: 0.0038 - val_mean_squared_error: 0.0038 - lr: 2.0000e-04\n",
            "Epoch 30/50\n",
            "8/8 [==============================] - 1s 72ms/step - loss: 6.1307e-04 - mean_squared_error: 6.1307e-04 - val_loss: 0.0036 - val_mean_squared_error: 0.0036 - lr: 2.0000e-04\n",
            "Epoch 31/50\n",
            "8/8 [==============================] - 1s 70ms/step - loss: 5.7371e-04 - mean_squared_error: 5.7371e-04 - val_loss: 0.0035 - val_mean_squared_error: 0.0035 - lr: 2.0000e-04\n",
            "Epoch 32/50\n",
            "8/8 [==============================] - 1s 69ms/step - loss: 5.3926e-04 - mean_squared_error: 5.3926e-04 - val_loss: 0.0034 - val_mean_squared_error: 0.0034 - lr: 2.0000e-04\n",
            "Epoch 33/50\n",
            "8/8 [==============================] - 1s 69ms/step - loss: 5.0952e-04 - mean_squared_error: 5.0952e-04 - val_loss: 0.0034 - val_mean_squared_error: 0.0034 - lr: 2.0000e-04\n",
            "Epoch 34/50\n",
            "8/8 [==============================] - 1s 69ms/step - loss: 4.8267e-04 - mean_squared_error: 4.8267e-04 - val_loss: 0.0033 - val_mean_squared_error: 0.0033 - lr: 2.0000e-04\n",
            "Epoch 35/50\n",
            "8/8 [==============================] - 1s 71ms/step - loss: 4.5721e-04 - mean_squared_error: 4.5721e-04 - val_loss: 0.0033 - val_mean_squared_error: 0.0033 - lr: 2.0000e-04\n",
            "Epoch 36/50\n",
            "8/8 [==============================] - 1s 69ms/step - loss: 4.3420e-04 - mean_squared_error: 4.3420e-04 - val_loss: 0.0032 - val_mean_squared_error: 0.0032 - lr: 2.0000e-04\n",
            "Epoch 37/50\n",
            "8/8 [==============================] - 1s 71ms/step - loss: 4.1213e-04 - mean_squared_error: 4.1213e-04 - val_loss: 0.0032 - val_mean_squared_error: 0.0032 - lr: 2.0000e-04\n",
            "Epoch 38/50\n",
            "8/8 [==============================] - 1s 71ms/step - loss: 3.9090e-04 - mean_squared_error: 3.9090e-04 - val_loss: 0.0030 - val_mean_squared_error: 0.0030 - lr: 2.0000e-04\n",
            "Epoch 39/50\n",
            "8/8 [==============================] - 1s 69ms/step - loss: 3.6984e-04 - mean_squared_error: 3.6984e-04 - val_loss: 0.0030 - val_mean_squared_error: 0.0030 - lr: 2.0000e-04\n",
            "Epoch 40/50\n",
            "8/8 [==============================] - 1s 69ms/step - loss: 3.5062e-04 - mean_squared_error: 3.5062e-04 - val_loss: 0.0029 - val_mean_squared_error: 0.0029 - lr: 2.0000e-04\n",
            "Epoch 41/50\n",
            "8/8 [==============================] - 1s 71ms/step - loss: 3.3166e-04 - mean_squared_error: 3.3166e-04 - val_loss: 0.0028 - val_mean_squared_error: 0.0028 - lr: 2.0000e-04\n",
            "Epoch 42/50\n",
            "8/8 [==============================] - 1s 69ms/step - loss: 3.1445e-04 - mean_squared_error: 3.1445e-04 - val_loss: 0.0028 - val_mean_squared_error: 0.0028 - lr: 2.0000e-04\n",
            "Epoch 43/50\n",
            "8/8 [==============================] - 1s 71ms/step - loss: 2.9791e-04 - mean_squared_error: 2.9791e-04 - val_loss: 0.0027 - val_mean_squared_error: 0.0027 - lr: 2.0000e-04\n",
            "Epoch 44/50\n",
            "8/8 [==============================] - 1s 69ms/step - loss: 2.8098e-04 - mean_squared_error: 2.8098e-04 - val_loss: 0.0027 - val_mean_squared_error: 0.0027 - lr: 2.0000e-04\n",
            "Epoch 45/50\n",
            "8/8 [==============================] - 1s 67ms/step - loss: 2.6556e-04 - mean_squared_error: 2.6556e-04 - val_loss: 0.0026 - val_mean_squared_error: 0.0026 - lr: 2.0000e-04\n",
            "Epoch 46/50\n",
            "8/8 [==============================] - 1s 72ms/step - loss: 2.5145e-04 - mean_squared_error: 2.5145e-04 - val_loss: 0.0026 - val_mean_squared_error: 0.0026 - lr: 2.0000e-04\n",
            "Epoch 47/50\n",
            "8/8 [==============================] - 1s 68ms/step - loss: 2.3760e-04 - mean_squared_error: 2.3760e-04 - val_loss: 0.0025 - val_mean_squared_error: 0.0025 - lr: 2.0000e-04\n",
            "Epoch 48/50\n",
            "8/8 [==============================] - 1s 70ms/step - loss: 2.2491e-04 - mean_squared_error: 2.2491e-04 - val_loss: 0.0025 - val_mean_squared_error: 0.0025 - lr: 2.0000e-04\n",
            "Epoch 49/50\n",
            "8/8 [==============================] - 1s 71ms/step - loss: 2.1294e-04 - mean_squared_error: 2.1294e-04 - val_loss: 0.0025 - val_mean_squared_error: 0.0025 - lr: 2.0000e-04\n",
            "Epoch 50/50\n",
            "8/8 [==============================] - 1s 71ms/step - loss: 2.0355e-04 - mean_squared_error: 2.0355e-04 - val_loss: 0.0025 - val_mean_squared_error: 0.0025 - lr: 2.0000e-04\n"
          ]
        }
      ]
    },
    {
      "cell_type": "code",
      "source": [
        "plt.plot(history.history['mean_squared_error'])\n",
        "plt.plot(history.history['val_mean_squared_error'])\n",
        "plt.xlabel('Epochs')\n",
        "plt.ylabel('MSE')\n",
        "plt.legend(['Train','Test']);"
      ],
      "metadata": {
        "colab": {
          "base_uri": "https://localhost:8080/",
          "height": 282
        },
        "id": "ApzEemqB-j9O",
        "outputId": "8b6888c6-feaf-4a7c-f34e-c315a78baffd"
      },
      "execution_count": null,
      "outputs": [
        {
          "output_type": "display_data",
          "data": {
            "image/png": "[encoded data removed]",
            "text/plain": [
              "<Figure size 432x288 with 1 Axes>"
            ]
          },
          "metadata": {
            "needs_background": "light"
          }
        }
      ]
    },
    {
      "cell_type": "code",
      "source": [
        "pred = model.predict(x_test)\n",
        "\n",
        "x = x_test[0]*255.0\n",
        "y = pred[0]*255.0\n",
        "\n",
        "plt.plot(x)\n",
        "plt.plot(y)\n",
        "plt.legend(['Real Value','Predicted Value']);"
      ],
      "metadata": {
        "colab": {
          "base_uri": "https://localhost:8080/",
          "height": 266
        },
        "id": "9M3eUA0S-lfB",
        "outputId": "ebf06790-a614-4b50-e1d3-2b909c4fa827"
      },
      "execution_count": null,
      "outputs": [
        {
          "output_type": "display_data",
          "data": {
            "image/png": "[encoded data removed]",
            "text/plain": [
              "<Figure size 432x288 with 1 Axes>"
            ]
          },
          "metadata": {
            "needs_background": "light"
          }
        }
      ]
    },
    {
      "cell_type": "code",
      "source": [
        "model.summary()"
      ],
      "metadata": {
        "colab": {
          "base_uri": "https://localhost:8080/"
        },
        "id": "1te34apc_Nas",
        "outputId": "7bdd37f6-57f0-48a3-d9cf-7ddec7670c86"
      },
      "execution_count": null,
      "outputs": [
        {
          "output_type": "stream",
          "name": "stdout",
          "text": [
            "Model: \"sequential_4\"\n",
            "_________________________________________________________________\n",
            " Layer (type)                Output Shape              Param #   \n",
            "=================================================================\n",
            " gru_7 (GRU)                 (None, 50)                7950      \n",
            "                                                                 \n",
            " repeat_vector_3 (RepeatVect  (None, 10, 50)           0         \n",
            " or)                                                             \n",
            "                                                                 \n",
            " gru_8 (GRU)                 (None, 10, 200)           151200    \n",
            "                                                                 \n",
            " time_distributed_3 (TimeDis  (None, 10, 1)            201       \n",
            " tributed)                                                       \n",
            "                                                                 \n",
            "=================================================================\n",
            "Total params: 159,351\n",
            "Trainable params: 159,351\n",
            "Non-trainable params: 0\n",
            "_________________________________________________________________\n"
          ]
        }
      ]
    }
  ]
}